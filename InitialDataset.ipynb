{
 "cells": [
  {
   "cell_type": "code",
   "execution_count": 1,
   "id": "15b62842-64e2-4355-b528-b72407cd9ed2",
   "metadata": {},
   "outputs": [
    {
     "name": "stdout",
     "output_type": "stream",
     "text": [
      "                         url        type\n",
      "0     https://www.google.com  legitimate\n",
      "1    https://www.youtube.com  legitimate\n",
      "2   https://www.facebook.com  legitimate\n",
      "3      https://www.baidu.com  legitimate\n",
      "4  https://www.wikipedia.org  legitimate\n",
      "url     0\n",
      "type    0\n",
      "dtype: int64\n",
      "<class 'pandas.core.frame.DataFrame'>\n",
      "RangeIndex: 450176 entries, 0 to 450175\n",
      "Data columns (total 2 columns):\n",
      " #   Column  Non-Null Count   Dtype \n",
      "---  ------  --------------   ----- \n",
      " 0   url     450176 non-null  object\n",
      " 1   type    450176 non-null  object\n",
      "dtypes: object(2)\n",
      "memory usage: 6.9+ MB\n",
      "None\n",
      "Number of duplicate URLs: 81\n",
      "Number of duplicate URLs after removal: 0\n"
     ]
    }
   ],
   "source": [
    "import pandas as pd\n",
    "\n",
    "# Load the dataset\n",
    "file_path = 'url-dataset.csv'\n",
    "df = pd.read_csv(file_path)\n",
    "\n",
    "# Convert to lowercase and strip whitespace\n",
    "df['url'] = df['url'].astype(str).str.lower().str.strip()\n",
    "df['type'] = df['type'].astype(str).str.lower()\n",
    "\n",
    "# Drop rows with missing or empty URLs\n",
    "df = df[df['url'].notna()]  # Remove NaNs in url\n",
    "df = df[df['url'] != '']    # Remove empty strings\n",
    "df = df[df['url'] != '.']   # Remove obviously invalid URLs like \".\"\n",
    "\n",
    "print(df.head())  \n",
    "print(df.isnull().sum())\n",
    "print(df.info())\n",
    "\n",
    "print(f\"Number of duplicate URLs: {df['url'].duplicated().sum()}\")\n",
    "\n",
    "df = df.drop_duplicates(subset='url')\n",
    "print(f\"Number of duplicate URLs after removal: {df['url'].duplicated().sum()}\")\n",
    "\n",
    "# Separate phishing and legitimate URLs based on the 'type' column\n",
    "phishing_df = df[df['type'] == 'phishing']  # Create a DataFrame for phishing URLs only\n",
    "legit_df = df[df['type'] == 'legitimate']  # Create a DataFrame for legitimate URLs only\n",
    "\n",
    "# Undersample both classes to 50,000 rows\n",
    "phishing_sampled = phishing_df.sample(n=50000, random_state=42)  # Randomly select 50,000 rows from phishing URLs\n",
    "legit_sampled = legit_df.sample(n=50000, random_state=42)      # Randomly select 50,000 rows from legitimate URLs\n",
    "\n",
    "# Combine the undersampled phishing and legitimate URLs\n",
    "balanced_df = pd.concat([phishing_sampled, legit_sampled])  # Concatenate phishing URLs with legitimate URLs\n",
    "\n",
    "# Shuffle the dataset to ensure a random order of data\n",
    "balanced_df = balanced_df.sample(frac=1, random_state=42).reset_index(drop=True)  # Shuffle and reset the index\n",
    "\n",
    "balanced_df.to_csv('balanced_url_dataset1.csv', index=False)  # Save the balanced dataset without the index column\n",
    "\n",
    "\n",
    "\n"
   ]
  },
  {
   "cell_type": "code",
   "execution_count": null,
   "id": "4e49b2e1-c990-45e9-b7b5-8a4c79aa5217",
   "metadata": {},
   "outputs": [],
   "source": []
  }
 ],
 "metadata": {
  "kernelspec": {
   "display_name": "Python [conda env:base] *",
   "language": "python",
   "name": "conda-base-py"
  },
  "language_info": {
   "codemirror_mode": {
    "name": "ipython",
    "version": 3
   },
   "file_extension": ".py",
   "mimetype": "text/x-python",
   "name": "python",
   "nbconvert_exporter": "python",
   "pygments_lexer": "ipython3",
   "version": "3.12.7"
  }
 },
 "nbformat": 4,
 "nbformat_minor": 5
}
