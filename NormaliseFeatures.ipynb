{
 "cells": [
  {
   "cell_type": "code",
   "execution_count": 1,
   "id": "c9a2a793-e61e-498b-9b5c-308487074665",
   "metadata": {},
   "outputs": [
    {
     "name": "stdout",
     "output_type": "stream",
     "text": [
      "✅ Normalized dataset saved as 'normalised_features.csv'\n"
     ]
    }
   ],
   "source": [
    "import pandas as pd\n",
    "from sklearn.preprocessing import MinMaxScaler\n",
    "\n",
    "# Load dataset\n",
    "filename = 'phishing_features.csv'  # your original dataset file\n",
    "dataset = pd.read_csv(filename)\n",
    "\n",
    "# Separate features and label\n",
    "features = dataset.iloc[:, :-1]\n",
    "labels = dataset.iloc[:, -1]\n",
    "\n",
    "# Normalise features\n",
    "scaler = MinMaxScaler()\n",
    "normalised_features = scaler.fit_transform(features)\n",
    "\n",
    "# Create new DataFrame with normalised features + label column\n",
    "normalised_df = pd.DataFrame(normalised_features, columns=features.columns)\n",
    "normalised_df['label'] = labels.values\n",
    "\n",
    "# Save to CSV\n",
    "normalised_df.to_csv('normalised_features.csv', index=False)\n",
    "\n",
    "print(\"✅ Normalised dataset saved as 'normalised_features.csv'\")\n"
   ]
  },
  {
   "cell_type": "code",
   "execution_count": null,
   "id": "7b8c949a-f55d-4973-b074-68b8c50352bb",
   "metadata": {},
   "outputs": [],
   "source": []
  }
 ],
 "metadata": {
  "kernelspec": {
   "display_name": "Python [conda env:base] *",
   "language": "python",
   "name": "conda-base-py"
  },
  "language_info": {
   "codemirror_mode": {
    "name": "ipython",
    "version": 3
   },
   "file_extension": ".py",
   "mimetype": "text/x-python",
   "name": "python",
   "nbconvert_exporter": "python",
   "pygments_lexer": "ipython3",
   "version": "3.12.7"
  }
 },
 "nbformat": 4,
 "nbformat_minor": 5
}
